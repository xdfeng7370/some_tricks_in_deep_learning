{
 "cells": [
  {
   "cell_type": "markdown",
   "metadata": {},
   "source": [
    "# Scipy 中的 Fourier 变换\n",
    "Scipy 提供了 fftpack， 用来计算 Fourier 变换， 以下内容来自官方文档以及链接\n",
    "https://docs.scipy.org/doc/scipy/reference/fftpack.html#module-scipy.fftpack.\n"
   ]
  },
  {
   "cell_type": "markdown",
   "metadata": {},
   "source": [
    "## 一、 fft 和 ifft\n",
    "一维离散fourier变换\n",
    "$$y[k]=\\sum_{n=0}^{N-1}e^{-2\\pi j kn/N} x[n],$$\n",
    "$$x[n]=\\frac{1}{N} \\sum_{k=0}^{N-1}e^{2\\pi jkn/N}y[k]$$\n",
    "FFT的代码格式为 y = fft(x, n=None, axis=- 1, overwrite_x=False)， 其中  \n",
    "* $x$ 表示输入的数组；\n",
    "* $n$ 表示 fourier 变换的长度。 如果 $n < x.shape[axis]$, 则数组 $x$ 被截断为前 n 项， 如果 $n>x.shape[axis]$, 则 $x$ 最后面补0， 默认$n=x.shape[axis]$;\n",
    "* axis 表示需要 fft 的列， 默认为 axis=-1;\n",
    "* 输出的数组为 $y(0),\\cdots, y(n-1).$ 其中\n",
    "$$y(j) = (x * exp(-2*pi*sqrt(-1)*j*np.arange(n)/n)).sum()$$\n",
    "同理， 逆变化为 ifft, 这里便不再赘述。"
   ]
  },
  {
   "cell_type": "code",
   "execution_count": 4,
   "metadata": {},
   "outputs": [
    {
     "name": "stdout",
     "output_type": "stream",
     "text": [
      "x: [ 1.   2.   1.  -1.   1.5] \n",
      " y: [ 2.01246118-0.j          0.9309017 -0.73839381j -0.8190983 +0.71921803j\n",
      " -0.8190983 -0.71921803j  0.9309017 +0.73839381j] \n",
      " y1: [ 4.5       -0.j          2.02254249-2.05724838j  2.08155948-1.65109876j\n",
      " -0.77254249-3.32869781j -1.83155948+1.60822041j  2.5       -0.j\n",
      " -1.83155948-1.60822041j -0.77254249+3.32869781j  2.08155948+1.65109876j\n",
      "  2.02254249+2.05724838j] \n",
      "\n",
      "y_inv: [ 0.4472136 +0.j  0.89442719+0.j  0.4472136 +0.j -0.4472136 +0.j\n",
      "  0.67082039+0.j]\n"
     ]
    }
   ],
   "source": [
    "from scipy.fft import fft, ifft\n",
    "import numpy as np\n",
    "x = np.array([1.0, 2.0, 1.0, -1.0, 1.5])\n",
    "y = fft(x, norm='ortho')\n",
    "# [x, 0, 0, 0, 0, 0] 的 FFT\n",
    "y1 = fft(x, n = 10)\n",
    "print('x:', x, '\\n', 'y:', y, '\\n', 'y1:', y1, '\\n')\n",
    "y_inv = ifft(y)\n",
    "print('y_inv:', y_inv)"
   ]
  },
  {
   "cell_type": "markdown",
   "metadata": {},
   "source": [
    "从上述离散Fourier变换的定义可以看出$$y[0]=\\sum_{n-0}^{N-1}x[n].$$\n",
    "也就是说"
   ]
  },
  {
   "cell_type": "code",
   "execution_count": 5,
   "metadata": {},
   "outputs": [
    {
     "data": {
      "text/plain": [
       "4.5"
      ]
     },
     "execution_count": 5,
     "metadata": {},
     "output_type": "execute_result"
    }
   ],
   "source": [
    "np.sum(x)"
   ]
  },
  {
   "cell_type": "markdown",
   "metadata": {},
   "source": [
    "这恰好等于y_inv的第一个元素。 如果 $n$ 是偶数， 元素 $y[1],\\cdots,y[N/2-1]$ 包含正频率项， 元素 $y[N/2],\\cdots, y[N-1]$ 包含负频率项， 以负频率逐渐减小来排序； 如果 $n$ 是奇数， 元素 $y[1],\\cdots,y[(N-1)/2]$ 包含正频率项， 元素 $y[(N+1)/2],\\cdots,y[N-1]$ 包含负频率项, 以负频率逐渐减小来排序。所以， 对8个点的变换， 频率的结果为$[0,1,2,3,-4,-3,-2,-1]$. 为了把0换到中心， 我们可以使用命令 fftshift, 结果为 $[-4, -3, -2, -1, 0, 1, 2, 3]$。 一般地， 我们只画包含正频率项的 FFT。\n",
    "下面我们画一个两个sine函数相加的频谱："
   ]
  },
  {
   "cell_type": "code",
   "execution_count": 64,
   "metadata": {},
   "outputs": [
    {
     "name": "stdout",
     "output_type": "stream",
     "text": [
      "1.5260015473472777e-13 5.99 \n",
      " [ 0.          0.08333333  0.16666667  0.25        0.33333333  0.41666667\n",
      "  0.5         0.58333333  0.66666667  0.75        0.83333333  0.91666667\n",
      "  1.          1.08333333  1.16666667  1.25        1.33333333  1.41666667\n",
      "  1.5         1.58333333  1.66666667  1.75        1.83333333  1.91666667\n",
      "  2.          2.08333333  2.16666667  2.25        2.33333333  2.41666667\n",
      "  2.5         2.58333333  2.66666667  2.75        2.83333333  2.91666667\n",
      "  3.          3.08333333  3.16666667  3.25        3.33333333  3.41666667\n",
      "  3.5         3.58333333  3.66666667  3.75        3.83333333  3.91666667\n",
      "  4.          4.08333333  4.16666667  4.25        4.33333333  4.41666667\n",
      "  4.5         4.58333333  4.66666667  4.75        4.83333333  4.91666667\n",
      "  5.          5.08333333  5.16666667  5.25        5.33333333  5.41666667\n",
      "  5.5         5.58333333  5.66666667  5.75        5.83333333  5.91666667\n",
      "  6.          6.08333333  6.16666667  6.25        6.33333333  6.41666667\n",
      "  6.5         6.58333333  6.66666667  6.75        6.83333333  6.91666667\n",
      "  7.          7.08333333  7.16666667  7.25        7.33333333  7.41666667\n",
      "  7.5         7.58333333  7.66666667  7.75        7.83333333  7.91666667\n",
      "  8.          8.08333333  8.16666667  8.25        8.33333333  8.41666667\n",
      "  8.5         8.58333333  8.66666667  8.75        8.83333333  8.91666667\n",
      "  9.          9.08333333  9.16666667  9.25        9.33333333  9.41666667\n",
      "  9.5         9.58333333  9.66666667  9.75        9.83333333  9.91666667\n",
      " 10.         10.08333333 10.16666667 10.25       10.33333333 10.41666667\n",
      " 10.5        10.58333333 10.66666667 10.75       10.83333333 10.91666667\n",
      " 11.         11.08333333 11.16666667 11.25       11.33333333 11.41666667\n",
      " 11.5        11.58333333 11.66666667 11.75       11.83333333 11.91666667\n",
      " 12.         12.08333333 12.16666667 12.25       12.33333333 12.41666667\n",
      " 12.5        12.58333333 12.66666667 12.75       12.83333333 12.91666667\n",
      " 13.         13.08333333 13.16666667 13.25       13.33333333 13.41666667\n",
      " 13.5        13.58333333 13.66666667 13.75       13.83333333 13.91666667\n",
      " 14.         14.08333333 14.16666667 14.25       14.33333333 14.41666667\n",
      " 14.5        14.58333333 14.66666667 14.75       14.83333333 14.91666667\n",
      " 15.         15.08333333 15.16666667 15.25       15.33333333 15.41666667\n",
      " 15.5        15.58333333 15.66666667 15.75       15.83333333 15.91666667\n",
      " 16.         16.08333333 16.16666667 16.25       16.33333333 16.41666667\n",
      " 16.5        16.58333333 16.66666667 16.75       16.83333333 16.91666667\n",
      " 17.         17.08333333 17.16666667 17.25       17.33333333 17.41666667\n",
      " 17.5        17.58333333 17.66666667 17.75       17.83333333 17.91666667\n",
      " 18.         18.08333333 18.16666667 18.25       18.33333333 18.41666667\n",
      " 18.5        18.58333333 18.66666667 18.75       18.83333333 18.91666667\n",
      " 19.         19.08333333 19.16666667 19.25       19.33333333 19.41666667\n",
      " 19.5        19.58333333 19.66666667 19.75       19.83333333 19.91666667\n",
      " 20.         20.08333333 20.16666667 20.25       20.33333333 20.41666667\n",
      " 20.5        20.58333333 20.66666667 20.75       20.83333333 20.91666667\n",
      " 21.         21.08333333 21.16666667 21.25       21.33333333 21.41666667\n",
      " 21.5        21.58333333 21.66666667 21.75       21.83333333 21.91666667\n",
      " 22.         22.08333333 22.16666667 22.25       22.33333333 22.41666667\n",
      " 22.5        22.58333333 22.66666667 22.75       22.83333333 22.91666667\n",
      " 23.         23.08333333 23.16666667 23.25       23.33333333 23.41666667\n",
      " 23.5        23.58333333 23.66666667 23.75       23.83333333 23.91666667\n",
      " 24.         24.08333333 24.16666667 24.25       24.33333333 24.41666667\n",
      " 24.5        24.58333333 24.66666667 24.75       24.83333333 24.91666667]\n"
     ]
    },
    {
     "data": {
      "image/png": "[encoded data removed]",
      "text/plain": [
       "<Figure size 432x288 with 1 Axes>"
      ]
     },
     "metadata": {
      "needs_background": "light"
     },
     "output_type": "display_data"
    }
   ],
   "source": [
    "from scipy.fft import fft, fftfreq\n",
    "import numpy as np\n",
    "from math import pi\n",
    "# Number of sample points\n",
    "N = 600\n",
    "# sample spacing\n",
    "T = 1/50\n",
    "x = np.linspace(0.0, N*T, N, endpoint=False)\n",
    "def function_f(x):\n",
    "    value = np.zeros_like(x)\n",
    "    for i in range(1, 6):\n",
    "        value = value + np.sin(2 * i * x * 2 * pi) / (2 * i)\n",
    "    return value\n",
    "y = function_f(x)\n",
    "yf = np.abs(fft(y))\n",
    "xf = fftfreq(N, d=T)[:N//2]\n",
    "print(np.abs(yf[0]), np.sum(x)/N,'\\n', xf)\n",
    "import matplotlib.pyplot as plt\n",
    "plt.plot(xf, np.abs(yf[0:N//2]))\n",
    "plt.grid()\n",
    "plt.show()"
   ]
  },
  {
   "cell_type": "markdown",
   "metadata": {},
   "source": [
    "## 二、fft2 和 ifft2 计算二维fourier变换与逆fourier变换\n",
    "scipy.fft.fft2(x, s=None, axes=- 2, - 1, norm=None, overwrite_x=False, workers=None, *, plan=None)\n",
    "* x 输入的数组(可以是n维数组)\n",
    "* s: 对应着fft中的n ,即 $s=[s[0], s[1]]$; 同样有截断与补0的情况；\n",
    "* axes： fourier变换的轴， 因为是二维， 故有两个， 默认为最后两个；\n"
   ]
  },
  {
   "cell_type": "code",
   "execution_count": 9,
   "metadata": {},
   "outputs": [
    {
     "name": "stdout",
     "output_type": "stream",
     "text": [
      "x: [[0 0 0 0 0]\n",
      " [1 1 1 1 1]\n",
      " [2 2 2 2 2]\n",
      " [3 3 3 3 3]\n",
      " [4 4 4 4 4]]\n",
      "fft of x: [[ 50.  -0.j           0.  +0.j           0.  +0.j\n",
      "    0.  -0.j           0.  -0.j        ]\n",
      " [-12.5+17.20477401j   0.  +0.j           0.  +0.j\n",
      "    0.  -0.j           0.  -0.j        ]\n",
      " [-12.5 +4.0614962j    0.  +0.j           0.  +0.j\n",
      "    0.  -0.j           0.  -0.j        ]\n",
      " [-12.5 -4.0614962j    0.  +0.j           0.  +0.j\n",
      "    0.  -0.j           0.  -0.j        ]\n",
      " [-12.5-17.20477401j   0.  +0.j           0.  +0.j\n",
      "    0.  -0.j           0.  -0.j        ]]\n",
      "y: [[4. 0. 0. 0.]\n",
      " [0. 4. 0. 0.]\n",
      " [0. 0. 4. 0.]\n",
      " [0. 0. 0. 4.]] \n",
      "\n",
      "fft of y: [[ 2. -0.j          0. -0.j          0. -0.j          0. +0.j\n",
      "   0. +0.j        ]\n",
      " [-0.5-0.68819096j  0. +0.j          0. +0.j          0. -0.j\n",
      "   0. -0.j        ]\n",
      " [-0.5-0.16245985j  0. +0.j          0. +0.j          0. -0.j\n",
      "   0. -0.j        ]\n",
      " [-0.5+0.16245985j  0. +0.j          0. +0.j          0. -0.j\n",
      "   0. -0.j        ]\n",
      " [-0.5+0.68819096j  0. +0.j          0. +0.j          0. -0.j\n",
      "   0. -0.j        ]]\n"
     ]
    }
   ],
   "source": [
    "import scipy.fft \n",
    "x = np.mgrid[:5, :5][0]\n",
    "print('x:', x)\n",
    "print('fft of x:', scipy.fft.fft2(x))\n",
    "y = 4 * np.eye(4)\n",
    "print('y:', y, '\\n')\n",
    "print('fft of y:', scipy.fft.ifft2(x))"
   ]
  },
  {
   "cell_type": "markdown",
   "metadata": {},
   "source": [
    "## 三、fftn 和 ifftn\n",
    "我们只给出相应的例子"
   ]
  },
  {
   "cell_type": "code",
   "execution_count": 10,
   "metadata": {},
   "outputs": [
    {
     "name": "stdout",
     "output_type": "stream",
     "text": [
      "x: [[[0 0 0]\n",
      "  [0 0 0]\n",
      "  [0 0 0]]\n",
      "\n",
      " [[1 1 1]\n",
      "  [1 1 1]\n",
      "  [1 1 1]]\n",
      "\n",
      " [[2 2 2]\n",
      "  [2 2 2]\n",
      "  [2 2 2]]] \n",
      "\n",
      "fft of x: [[[ 0.-0.j  0.+0.j  0.-0.j]\n",
      "  [ 0.+0.j  0.+0.j  0.-0.j]\n",
      "  [ 0.-0.j  0.+0.j  0.-0.j]]\n",
      "\n",
      " [[ 9.-0.j  0.+0.j  0.-0.j]\n",
      "  [ 0.+0.j  0.+0.j  0.-0.j]\n",
      "  [ 0.-0.j  0.+0.j  0.-0.j]]\n",
      "\n",
      " [[18.-0.j  0.+0.j  0.-0.j]\n",
      "  [ 0.+0.j  0.+0.j  0.-0.j]\n",
      "  [ 0.-0.j  0.+0.j  0.-0.j]]] \n",
      "\n",
      "ifft of x: [[[ 2.-0.j  2.-0.j  2.-0.j]\n",
      "  [ 0.-0.j  0.-0.j  0.-0.j]]\n",
      "\n",
      " [[-2.-0.j -2.-0.j -2.-0.j]\n",
      "  [ 0.-0.j  0.-0.j  0.-0.j]]]\n"
     ]
    }
   ],
   "source": [
    "import scipy.fft\n",
    "x = np.mgrid[:3, :3, :3][0]\n",
    "print('x:', x, '\\n')\n",
    "print('fft of x:', scipy.fft.fftn(x, axes=(1, 2)),'\\n')\n",
    "print('ifft of x:', scipy.fft.fftn(x,(2,2), axes=(0,1)))"
   ]
  },
  {
   "cell_type": "markdown",
   "metadata": {},
   "source": [
    "## 四、fftfreq 和 fftshift\n",
    "scipy 提供了两个非常有用的函数： fftfreq 和 fftshift\n",
    "\n",
    "scipy.fft.fftfreq(n, d=1.0) 返回离散的 fourier 采样频率\n",
    "\n",
    "$f = [0, 1, ..., n/2-1, -n/2, ..., -1] / (d*n)$ if n is even\n",
    "\n",
    "$f = [0, 1, ..., (n-1)/2, -(n-1)/2, ..., -1] / (d*n)$ if n is odd\n",
    "\n",
    "scipy.fft.fftshift(x, axes=None) 将 0 频率变换到谱中央\n"
   ]
  },
  {
   "cell_type": "code",
   "execution_count": 11,
   "metadata": {},
   "outputs": [
    {
     "name": "stdout",
     "output_type": "stream",
     "text": [
      "freq: [ 0.    1.25  2.5   3.75 -5.   -3.75 -2.5  -1.25]\n"
     ]
    }
   ],
   "source": [
    "signal = np.array([-2, 8, 6, 4, 1, 0, 3, 5], dtype=float)\n",
    "fourier = np.fft.fft(signal)\n",
    "n = signal.size\n",
    "timestep = 0.1\n",
    "freq = np.fft.fftfreq(n, d=timestep)\n",
    "print('freq:', freq)"
   ]
  },
  {
   "cell_type": "code",
   "execution_count": 12,
   "metadata": {},
   "outputs": [
    {
     "data": {
      "text/plain": [
       "array([4, 5, 6, 7, 0, 1, 2, 3])"
      ]
     },
     "execution_count": 12,
     "metadata": {},
     "output_type": "execute_result"
    }
   ],
   "source": [
    "from scipy.fft import fftshift\n",
    "x = np.arange(8)\n",
    "fftshift(x)"
   ]
  },
  {
   "cell_type": "markdown",
   "metadata": {},
   "source": [
    "# 常见的例子"
   ]
  },
  {
   "cell_type": "code",
   "execution_count": 75,
   "metadata": {},
   "outputs": [
    {
     "name": "stdout",
     "output_type": "stream",
     "text": [
      "(1000,)\n"
     ]
    },
    {
     "data": {
      "image/png": "[encoded data removed]",
      "text/plain": [
       "<Figure size 432x288 with 1 Axes>"
      ]
     },
     "metadata": {
      "needs_background": "light"
     },
     "output_type": "display_data"
    },
    {
     "name": "stdout",
     "output_type": "stream",
     "text": [
      "1.0485084638649087e-12\n"
     ]
    },
    {
     "data": {
      "image/png": "[encoded data removed]",
      "text/plain": [
       "<Figure size 432x288 with 1 Axes>"
      ]
     },
     "metadata": {
      "needs_background": "light"
     },
     "output_type": "display_data"
    }
   ],
   "source": [
    "import numpy as np\n",
    "from math import pi\n",
    "from scipy.fft import fft, fftfreq, fftshift\n",
    "import matplotlib.pyplot as plt\n",
    "N = 1000\n",
    "T = 1 / 40\n",
    "\n",
    "# sample spacing\n",
    "x = np.linspace(0, N*T, N, endpoint=False)\n",
    "print(x.shape)\n",
    "def function_f(x):\n",
    "    value = np.zeros_like(x)\n",
    "    for i in range(1, 6):\n",
    "        value = value + np.sin(2 * i * x * 2 * pi) / (2 * i)\n",
    "    return value\n",
    "f_value = function_f(x)\n",
    "plt.figure()\n",
    "plt.plot(x, f_value)\n",
    "plt.show()\n",
    "\n",
    "y = function_f(x)\n",
    "yf = np.abs(fft(y))\n",
    "print(yf[0])\n",
    "x_half = x[:N//2]\n",
    "xf = fftfreq(N, d=T)[:N//2]\n",
    "import matplotlib.pyplot as plt\n",
    "plt.figure()\n",
    "plt.plot(xf, np.abs(yf[0:N//2]))\n",
    "plt.xlim([0, 15])\n",
    "plt.grid()\n",
    "plt.show()\n"
   ]
  },
  {
   "cell_type": "code",
   "execution_count": null,
   "metadata": {},
   "outputs": [],
   "source": []
  }
 ],
 "metadata": {
  "kernelspec": {
   "display_name": "Python 3",
   "language": "python",
   "name": "python3"
  },
  "language_info": {
   "codemirror_mode": {
    "name": "ipython",
    "version": 3
   },
   "file_extension": ".py",
   "mimetype": "text/x-python",
   "name": "python",
   "nbconvert_exporter": "python",
   "pygments_lexer": "ipython3",
   "version": "3.8.3"
  }
 },
 "nbformat": 4,
 "nbformat_minor": 4
}
