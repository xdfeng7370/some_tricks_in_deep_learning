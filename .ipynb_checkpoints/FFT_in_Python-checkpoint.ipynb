{
 "cells": [
  {
   "cell_type": "markdown",
   "metadata": {},
   "source": [
    "# Scipy 中的 Fourier 变换\n",
    "Scipy 提供了 fftpack， 用来计算 Fourier 变换， 以下内容来自官方文档以及链接\n",
    "https://docs.scipy.org/doc/scipy/reference/fftpack.html#module-scipy.fftpack.\n"
   ]
  },
  {
   "cell_type": "markdown",
   "metadata": {},
   "source": [
    "## 一、 fft 和 ifft\n",
    "一维离散fourier变换\n",
    "$$y[k]=\\sum_{n=0}^{N-1}e^{-2\\pi j kn/N} x[n],$$\n",
    "$$x[n]=\\frac{1}{N} \\sum_{k=0}^{N-1}e^{2\\pi jkn/N}y[k]$$\n",
    "FFT的代码格式为 y = fft(x, n=None, axis=- 1, overwrite_x=False)， 其中  \n",
    "* $x$ 表示输入的数组；\n",
    "* $n$ 表示 fourier 变换的长度。 如果 $n < x.shape[axis]$, 则数组 $x$ 被截断为前 n 项， 如果 $n>x.shape[axis]$, 则 $x$ 最后面补0， 默认$n=x.shape[axis]$;\n",
    "* axis 表示需要 fft 的列， 默认为 axis=-1;\n",
    "* 输出的数组为 $y(0),\\cdots, y(n-1).$ 其中\n",
    "$$y(j) = (x * exp(-2*pi*sqrt(-1)*j*np.arange(n)/n)).sum()$$\n",
    "同理， 逆变化为 ifft, 这里便不再赘述。"
   ]
  },
  {
   "cell_type": "code",
   "execution_count": null,
   "metadata": {},
   "outputs": [],
   "source": [
    "from scipy.fft import fft, ifft\n",
    "import numpy as np\n",
    "x = np.array([1.0, 2.0, 1.0, -1.0, 1.5])\n",
    "y = fft(x, norm='ortho')\n",
    "# [x, 0, 0, 0, 0, 0] 的 FFT\n",
    "y1 = fft(x, n = 10)\n",
    "print('x:', x, '\\n', 'y:', y, '\\n', 'y1:', y1, '\\n')\n",
    "y_inv = ifft(y)\n",
    "print('y_inv:', y_inv)"
   ]
  },
  {
   "cell_type": "markdown",
   "metadata": {},
   "source": [
    "从上述离散Fourier变换的定义可以看出$$y[0]=\\sum_{n-0}^{N-1}x[n].$$\n",
    "也就是说"
   ]
  },
  {
   "cell_type": "code",
   "execution_count": null,
   "metadata": {},
   "outputs": [],
   "source": [
    "np.sum(x)"
   ]
  },
  {
   "cell_type": "markdown",
   "metadata": {},
   "source": [
    "这恰好等于y_inv的第一个元素。 如果 $n$ 是偶数， 元素 $y[1],\\cdots,y[N/2-1]$ 包含正频率项， 元素 $y[N/2],\\cdots, y[N-1]$ 包含负频率项， 以负频率逐渐减小来排序； 如果 $n$ 是奇数， 元素 $y[1],\\cdots,y[(N-1)/2]$ 包含正频率项， 元素 $y[(N+1)/2],\\cdots,y[N-1]$ 包含负频率项, 以负频率逐渐减小来排序。所以， 对8个点的变换， 频率的结果为$[0,1,2,3,-4,-3,-2,-1]$. 为了把0换到中心， 我们可以使用命令 fftshift, 结果为 $[-4, -3, -2, -1, 0, 1, 2, 3]$。 一般地， 我们只画包含正频率项的 FFT。\n",
    "下面我们画一个两个sine函数相加的频谱："
   ]
  },
  {
   "cell_type": "code",
   "execution_count": null,
   "metadata": {},
   "outputs": [],
   "source": [
    "from scipy.fft import fft, fftfreq\n",
    "# Number of sample points\n",
    "N = 600\n",
    "# sample spacing\n",
    "T = 1.0 / 800.0\n",
    "x = np.linspace(0.0, N*T, N, endpoint=False)\n",
    "y = np.sin(50.0 * 2.0*np.pi*x) + 0.5*np.sin(80.0 * 2.0*np.pi*x)\n",
    "yf = fft(y)\n",
    "xf = fftfreq(N, T)[:N//2]\n",
    "import matplotlib.pyplot as plt\n",
    "plt.plot(xf, 2.0/N * np.abs(yf[0:N//2]))\n",
    "plt.grid()\n",
    "plt.show()"
   ]
  },
  {
   "cell_type": "markdown",
   "metadata": {},
   "source": [
    "## 二、fft2 和 ifft2 计算二维fourier变换与逆fourier变换\n",
    "scipy.fft.fft2(x, s=None, axes=- 2, - 1, norm=None, overwrite_x=False, workers=None, *, plan=None)\n",
    "* x 输入的数组(可以是n维数组)\n",
    "* s: 对应着fft中的n ,即 $s=[s[0], s[1]]$; 同样有截断与补0的情况；\n",
    "* axes： fourier变换的轴， 因为是二维， 故有两个， 默认为最后两个；\n"
   ]
  },
  {
   "cell_type": "code",
   "execution_count": null,
   "metadata": {},
   "outputs": [],
   "source": [
    "import scipy.fft \n",
    "x = np.mgrid[:5, :5][0]\n",
    "print('x:', x)\n",
    "print('fft of x:', scipy.fft.fft2(x))\n",
    "y = 4 * np.eye(4)\n",
    "print('y:', y, '\\n')\n",
    "print('fft of y:', scipy.fft.ifft2(x))"
   ]
  },
  {
   "cell_type": "markdown",
   "metadata": {},
   "source": [
    "## 三、fftn 和 ifftn\n",
    "我们只给出相应的例子"
   ]
  },
  {
   "cell_type": "code",
   "execution_count": null,
   "metadata": {},
   "outputs": [],
   "source": [
    "import scipy.fft\n",
    "x = np.mgrid[:3, :3, :3][0]\n",
    "print('x:', x, '\\n')\n",
    "print('fft of x:', scipy.fft.fftn(x, axes=(1, 2)),'\\n')\n",
    "print('ifft of x:', scipy.fft.fftn(x,(2,2), axes=(0,1)))"
   ]
  },
  {
   "cell_type": "markdown",
   "metadata": {},
   "source": [
    "## 四、fftfreq 和 fftshift\n",
    "scipy 提供了两个非常有用的函数： fftfreq 和 fftshift\n",
    "\n",
    "scipy.fft.fftfreq(n, d=1.0) 返回离散的 fourier 采样频率\n",
    "$f = [0, 1, ..., n/2-1, -n/2, ..., -1] / (d*n)$ if n is even\n",
    "$f = [0, 1, ..., (n-1)/2, -(n-1)/2, ..., -1] / (d*n)$ if n is odd"
   ]
  },
  {
   "cell_type": "code",
   "execution_count": null,
   "metadata": {},
   "outputs": [],
   "source": [
    "signal = np.array([-2, 8, 6, 4, 1, 0, 3, 5], dtype=float)\n",
    "fourier = np.fft.fft(signal)\n",
    "n = signal.size\n",
    "timestep = 0.1\n",
    "freq = np.fft.fftfreq(n, d=timestep)\n",
    "print('freq:', freq)"
   ]
  },
  {
   "cell_type": "code",
   "execution_count": null,
   "metadata": {},
   "outputs": [],
   "source": [
    "from scipy.fft import fftfreq\n",
    "freq = fftfreq(8, 0.125)\n",
    "freq"
   ]
  },
  {
   "cell_type": "code",
   "execution_count": null,
   "metadata": {},
   "outputs": [],
   "source": [
    "from scipy.fft import fftshift\n",
    "x = np.arange(8)\n",
    "fftshift(x)"
   ]
  },
  {
   "cell_type": "markdown",
   "metadata": {},
   "source": [
    "## rfft\n",
    "当 $x$ 是实数序列时， 其 FFT 是 Hermitian 的， 即具有对称的实部以及反对称的虚部。"
   ]
  },
  {
   "cell_type": "code",
   "execution_count": null,
   "metadata": {},
   "outputs": [],
   "source": [
    "from scipy.fft import rfft\n",
    "x = np.array([1.0, 2.0])\n",
    "y = rfft(x)\n",
    "y"
   ]
  },
  {
   "cell_type": "code",
   "execution_count": null,
   "metadata": {},
   "outputs": [],
   "source": [
    "y1 = fft(x)\n",
    "y1"
   ]
  },
  {
   "cell_type": "code",
   "execution_count": null,
   "metadata": {},
   "outputs": [],
   "source": []
  },
  {
   "cell_type": "code",
   "execution_count": null,
   "metadata": {},
   "outputs": [],
   "source": []
  },
  {
   "cell_type": "code",
   "execution_count": null,
   "metadata": {},
   "outputs": [],
   "source": []
  },
  {
   "cell_type": "code",
   "execution_count": null,
   "metadata": {},
   "outputs": [],
   "source": []
  },
  {
   "cell_type": "code",
   "execution_count": null,
   "metadata": {},
   "outputs": [],
   "source": []
  }
 ],
 "metadata": {
  "kernelspec": {
   "display_name": "Python 3",
   "language": "python",
   "name": "python3"
  },
  "language_info": {
   "codemirror_mode": {
    "name": "ipython",
    "version": 3
   },
   "file_extension": ".py",
   "mimetype": "text/x-python",
   "name": "python",
   "nbconvert_exporter": "python",
   "pygments_lexer": "ipython3",
   "version": "3.8.3"
  }
 },
 "nbformat": 4,
 "nbformat_minor": 4
}
